{
 "cells": [
  {
   "cell_type": "code",
   "execution_count": 5,
   "metadata": {},
   "outputs": [
    {
     "name": "stderr",
     "output_type": "stream",
     "text": [
      "Usage of abort_on_error is deprecated. Use abort_on_first instead.\n"
     ]
    },
    {
     "name": "stdout",
     "output_type": "stream",
     "text": [
      "The RDF file conforms to the SHACL constraints.\n",
      "Validation Report:\n",
      "Validation Report\n",
      "Conforms: True\n",
      "\n"
     ]
    }
   ],
   "source": [
    "from pyshacl import validate\n",
    "from rdflib import Graph\n",
    "\n",
    "def validate_rdf_with_shacl(rdf_file, shacl_file):\n",
    "    \"\"\"\n",
    "    Validate an RDF file against a SHACL file.\n",
    "\n",
    "    :param rdf_file: Path to the RDF file to validate.\n",
    "    :param shacl_file: Path to the SHACL file with constraints.\n",
    "    :return: Tuple (conforms, report) where conforms is a boolean indicating\n",
    "             if the RDF conforms to the SHACL constraints, and report is a string report.\n",
    "    \"\"\"\n",
    "    # Load RDF and SHACL files into RDFLib Graphs\n",
    "    rdf_graph = Graph()\n",
    "    shacl_graph = Graph()\n",
    "\n",
    "    rdf_graph.parse(rdf_file, format=\"turtle\")\n",
    "    shacl_graph.parse(shacl_file, format=\"turtle\")\n",
    "\n",
    "    # Validate the RDF graph against the SHACL graph\n",
    "    conforms, report_graph, report_text = validate(\n",
    "        data_graph=rdf_graph,\n",
    "        shacl_graph=shacl_graph,\n",
    "        inference=\"rdfs\",\n",
    "        abort_on_error=False,\n",
    "        meta_shacl=False,\n",
    "        debug=False\n",
    "    )\n",
    "\n",
    "    return conforms, report_text\n",
    "\n",
    "# File paths\n",
    "rdf_file = \"ability_kg.ttl\"\n",
    "shacl_file = \"ability_shapes.ttl\"\n",
    "\n",
    "# Perform validation\n",
    "conforms, report = validate_rdf_with_shacl(rdf_file, shacl_file)\n",
    "\n",
    "# Print results\n",
    "if conforms:\n",
    "    print(\"The RDF file conforms to the SHACL constraints.\")\n",
    "else:\n",
    "    print(\"The RDF file does NOT conform to the SHACL constraints.\")\n",
    "\n",
    "print(\"Validation Report:\")\n",
    "print(report)\n"
   ]
  },
  {
   "cell_type": "code",
   "execution_count": 12,
   "metadata": {},
   "outputs": [],
   "source": [
    "import re\n",
    "\n",
    "def replace_subjects_with_prefix_and_add_sameas_start(input_file, output_file):\n",
    "    prefix = \"\"\"@prefix ability: <http://example.org/pokemon/ability/> .\n",
    "@prefix owl: <http://www.w3.org/2002/07/owl#> .\n",
    "@prefix bulbapedia: <https://bulbapedia.bulbagarden.net/wiki/> .\n",
    "@prefix pkmn: <http://example.org/pokemon/> .\n",
    "@prefix schema: <http://schema.org/> .\n",
    "@prefix rdfs: <http://www.w3.org/2000/01/rdf-schema#> .\\n\"\"\"\n",
    "    \n",
    "    subject_pattern = r\"<http://example.org/pokemon/ability/([a-zA-Z0-9_]+)>\"\n",
    "\n",
    "    with open(input_file, 'r', encoding='utf-8') as infile:\n",
    "        lines = infile.readlines()\n",
    "\n",
    "    updated_lines = []\n",
    "    prefix_added = False\n",
    "    ability_name = None\n",
    "\n",
    "    for line in lines:\n",
    "        # Add the prefix at the beginning of the file if not already added\n",
    "        if not prefix_added:\n",
    "            updated_lines.append(prefix)\n",
    "            prefix_added = True\n",
    "\n",
    "        # Replace subjects matching the pattern with the compact form\n",
    "        if match := re.match(subject_pattern, line):\n",
    "            ability_name = match.group(1)  # Capture the ability name\n",
    "            updated_line = re.sub(subject_pattern, r\"ability:\\1\", line)\n",
    "            # Add owl:sameAs immediately after the subject declaration\n",
    "            sameas_line = f\"    owl:sameAs bulbapedia:{ability_name} ;\\n\"\n",
    "            updated_lines.append(updated_line)\n",
    "            updated_lines.append(sameas_line)\n",
    "        else:\n",
    "            updated_line = line\n",
    "            updated_lines.append(updated_line)\n",
    "\n",
    "    with open(output_file, 'w', encoding='utf-8') as outfile:\n",
    "        outfile.writelines(updated_lines)\n",
    "\n",
    "# Update the input and output file paths\n",
    "input_file = \"ability_kg.ttl\"\n",
    "output_file = \"ability_kg.ttl\"\n",
    "\n",
    "replace_subjects_with_prefix_and_add_sameas_start(input_file, output_file)\n"
   ]
  },
  {
   "cell_type": "code",
   "execution_count": null,
   "metadata": {},
   "outputs": [],
   "source": []
  }
 ],
 "metadata": {
  "kernelspec": {
   "display_name": "base",
   "language": "python",
   "name": "python3"
  },
  "language_info": {
   "codemirror_mode": {
    "name": "ipython",
    "version": 3
   },
   "file_extension": ".py",
   "mimetype": "text/x-python",
   "name": "python",
   "nbconvert_exporter": "python",
   "pygments_lexer": "ipython3",
   "version": "3.9.13"
  }
 },
 "nbformat": 4,
 "nbformat_minor": 2
}
